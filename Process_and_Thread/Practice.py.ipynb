{
 "cells": [
  {
   "cell_type": "code",
   "execution_count": 22,
   "metadata": {},
   "outputs": [],
   "source": [
    "import time\n",
    "import os\n",
    "from multiprocessing import Process, Pool, Pipe, Queue, cpu_count\n",
    "import concurrent.futures\n",
    "import threading"
   ]
  },
  {
   "cell_type": "code",
   "execution_count": 2,
   "metadata": {},
   "outputs": [
    {
     "name": "stdout",
     "output_type": "stream",
     "text": [
      "Number of CPU cores: 16\n"
     ]
    }
   ],
   "source": [
    "print(f'Number of CPU cores: {cpu_count()}')"
   ]
  },
  {
   "cell_type": "markdown",
   "metadata": {},
   "source": [
    "# Multi-Processing"
   ]
  },
  {
   "cell_type": "code",
   "execution_count": 3,
   "metadata": {},
   "outputs": [],
   "source": [
    "def long_time_task():\n",
    "    print(f'Current child process: {os.getpid()}')\n",
    "    time.sleep(2)\n",
    "    print(f'Result: {8 ** 20}')"
   ]
  },
  {
   "cell_type": "code",
   "execution_count": 4,
   "metadata": {},
   "outputs": [
    {
     "name": "stdout",
     "output_type": "stream",
     "text": [
      "Current mother process: 30799\n",
      "Current child process: 30799\n",
      "Result: 1152921504606846976\n",
      "Current child process: 30799\n",
      "Result: 1152921504606846976\n",
      "Time consumed: 4.0084696829999995 seconds\n"
     ]
    }
   ],
   "source": [
    "print(f'Current mother process: {os.getpid()}')\n",
    "start = time.perf_counter()\n",
    "for i in range(2):\n",
    "    long_time_task()\n",
    "end = time.perf_counter()\n",
    "print(f'Time consumed: {end - start} seconds')"
   ]
  },
  {
   "cell_type": "code",
   "execution_count": null,
   "metadata": {},
   "outputs": [],
   "source": []
  },
  {
   "cell_type": "code",
   "execution_count": 34,
   "metadata": {},
   "outputs": [],
   "source": [
    "def long_time_task(i):\n",
    "    print(f'Child process: {os.getpid()} - Task: {i}')\n",
    "    time.sleep(i)\n",
    "    print(f'Result: {i}')"
   ]
  },
  {
   "cell_type": "code",
   "execution_count": 35,
   "metadata": {},
   "outputs": [
    {
     "name": "stdout",
     "output_type": "stream",
     "text": [
      "Current mother process: 30799\n",
      "Wait for all child processes to be finished...\n",
      "Child process: 43682 - Task: 3\n",
      "Child process: 43683 - Task: 1\n",
      "Result: 1\n",
      "Result: 3\n",
      "Time consumed: 3.0165687019998586 seconds\n"
     ]
    }
   ],
   "source": [
    "print(f'Current mother process: {os.getpid()}')\n",
    "start = time.perf_counter()\n",
    "p1 = Process(target=long_time_task, args=(3, ))\n",
    "p2 = Process(target=long_time_task, args=(1, ))\n",
    "print('Wait for all child processes to be finished...')\n",
    "p1.start()\n",
    "p2.start()\n",
    "p1.join()\n",
    "p2.join()\n",
    "end = time.perf_counter()\n",
    "print(f'Time consumed: {end - start} seconds')"
   ]
  },
  {
   "cell_type": "code",
   "execution_count": null,
   "metadata": {},
   "outputs": [],
   "source": []
  },
  {
   "cell_type": "code",
   "execution_count": 7,
   "metadata": {},
   "outputs": [
    {
     "name": "stdout",
     "output_type": "stream",
     "text": [
      "Current mother process: 30799\n",
      "Child process: 30811 - Task: 0\n",
      "Child process: 30812 - Task: 1\n",
      "Child process: 30813 - Task: 2\n",
      "Child process: 30814 - Task: 3\n",
      "Wait for all child processes to be finished...\n",
      "Result: 1152921504606846976\n",
      "Result: 1152921504606846976\n",
      "Result: 1152921504606846976\n",
      "Result: 1152921504606846976\n",
      "Child process: 30812 - Task: 4\n",
      "Result: 1152921504606846976\n",
      "Time consumed: 4.041476960999999 seconds\n"
     ]
    }
   ],
   "source": [
    "# Use Pool\n",
    "print(f'Current mother process: {os.getpid()}')\n",
    "start = time.perf_counter()\n",
    "p = Pool(4)\n",
    "for i in range(5):\n",
    "    p.apply_async(long_time_task, args=(i, ))\n",
    "print(\"Wait for all child processes to be finished...\")\n",
    "p.close()\n",
    "p.join()\n",
    "end = time.perf_counter()\n",
    "print(f'Time consumed: {end - start} seconds')"
   ]
  },
  {
   "cell_type": "code",
   "execution_count": null,
   "metadata": {},
   "outputs": [],
   "source": []
  },
  {
   "cell_type": "code",
   "execution_count": 8,
   "metadata": {},
   "outputs": [],
   "source": [
    "# Data transfer between processes using Pipe\n",
    "def receiver(x, pipe):\n",
    "    _out_pipe, _in_pipe = pipe\n",
    "    # Close in, only use out\n",
    "    _in_pipe.close()\n",
    "    while True:\n",
    "        try:\n",
    "            msg = _out_pipe.recv()\n",
    "            print(msg + x)\n",
    "        except EOFError:\n",
    "            print('No input')\n",
    "            break"
   ]
  },
  {
   "cell_type": "code",
   "execution_count": 9,
   "metadata": {},
   "outputs": [
    {
     "name": "stdout",
     "output_type": "stream",
     "text": [
      "100\n",
      "101\n",
      "102\n",
      "103\n",
      "104\n",
      "105\n",
      "106\n",
      "107\n",
      "108\n",
      "109\n",
      "No input\n",
      "Main process ends\n"
     ]
    }
   ],
   "source": [
    "out_pipe, in_pipe = Pipe()\n",
    "child_p = Process(target=receiver, args=(100, (out_pipe, in_pipe)))\n",
    "child_p.start()\n",
    "out_pipe.close()\n",
    "for i in range(10):\n",
    "    in_pipe.send(i)\n",
    "in_pipe.close()\n",
    "child_p.join()\n",
    "print('Main process ends')"
   ]
  },
  {
   "cell_type": "code",
   "execution_count": null,
   "metadata": {},
   "outputs": [],
   "source": []
  },
  {
   "cell_type": "code",
   "execution_count": 10,
   "metadata": {},
   "outputs": [],
   "source": [
    "# Data transfer between processes using Queue\n",
    "def write(q):\n",
    "    print(f'Process to write: {os.getpid()}')\n",
    "    for value in ['A', 'B', 'C']:\n",
    "        print(f'Put {value} into queue...')\n",
    "        q.put(value)\n",
    "        time.sleep(2)\n",
    "\n",
    "def read(q):\n",
    "    print(f'Process to read: {os.getpid()}')\n",
    "    while True:\n",
    "        value = q.get()\n",
    "        print(f'Get {value} from queue')"
   ]
  },
  {
   "cell_type": "code",
   "execution_count": 11,
   "metadata": {},
   "outputs": [
    {
     "name": "stdout",
     "output_type": "stream",
     "text": [
      "Process to write: 30818\n",
      "Put A into queue...\n",
      "Process to read: 30819\n",
      "Get A from queue\n",
      "Put B into queue...\n",
      "Get B from queue\n",
      "Put C into queue...\n",
      "Get C from queue\n",
      "Write and read processes finished...\n"
     ]
    }
   ],
   "source": [
    "q = Queue()\n",
    "pw = Process(target=write, args=(q, ))\n",
    "pr = Process(target=read, args=(q, ))\n",
    "pw.start()\n",
    "pr.start()\n",
    "pw.join()\n",
    "pr.terminate()\n",
    "print('Write and read processes finished...')"
   ]
  },
  {
   "cell_type": "code",
   "execution_count": null,
   "metadata": {},
   "outputs": [],
   "source": []
  },
  {
   "cell_type": "code",
   "execution_count": 12,
   "metadata": {},
   "outputs": [],
   "source": [
    "def func(msg):\n",
    "    print(f'msg: {msg}')\n",
    "    time.sleep(1)\n",
    "    print(\"*\" * 10)\n",
    "    return f'func_returns: {msg}'"
   ]
  },
  {
   "cell_type": "code",
   "execution_count": 13,
   "metadata": {},
   "outputs": [
    {
     "name": "stdout",
     "output_type": "stream",
     "text": [
      "msg: Hello World! 0\n",
      "msg: Hello World! 2\n",
      "msg: Hello World! 1\n",
      "msg: Hello World! 3\n",
      "**********\n",
      "**********\n",
      "**********\n",
      "**********\n",
      "msg: Hello World! 4\n",
      "msg: Hello World! 5\n",
      "msg: Hello World! 6\n",
      "msg: Hello World! 7\n",
      "**********\n",
      "**********\n",
      "**********\n",
      "**********\n",
      "msg: Hello World! 8\n",
      "msg: Hello World! 9\n",
      "**********\n",
      "**********\n",
      "All finished\n"
     ]
    }
   ],
   "source": [
    "pool = Pool(4)\n",
    "results = []\n",
    "for i in range(10):\n",
    "    msg = f'Hello World! {i}'\n",
    "    result = pool.apply_async(func, (msg, ))\n",
    "    results.append(result)\n",
    "pool.close()\n",
    "pool.join()\n",
    "print('All finished')"
   ]
  },
  {
   "cell_type": "code",
   "execution_count": null,
   "metadata": {},
   "outputs": [],
   "source": []
  },
  {
   "cell_type": "code",
   "execution_count": 55,
   "metadata": {},
   "outputs": [],
   "source": [
    "def do_something(seconds):\n",
    "    print(f'Sleeping {seconds} seconds...')\n",
    "    time.sleep(seconds)\n",
    "    return f'Done sleeping {seconds} seconds'"
   ]
  },
  {
   "cell_type": "code",
   "execution_count": 20,
   "metadata": {},
   "outputs": [
    {
     "name": "stdout",
     "output_type": "stream",
     "text": [
      "Sleeping 3 seconds...\n",
      "Sleeping 1 seconds...\n",
      "Done sleeping 3 seconds\n",
      "Done sleeping 1 seconds\n"
     ]
    }
   ],
   "source": [
    "with concurrent.futures.ProcessPoolExecutor() as executor:\n",
    "    f1 = executor.submit(do_something, 3)\n",
    "    f2 = executor.submit(do_something, 1)\n",
    "    print(f1.result())\n",
    "    print(f2.result())"
   ]
  },
  {
   "cell_type": "code",
   "execution_count": 19,
   "metadata": {},
   "outputs": [
    {
     "name": "stdout",
     "output_type": "stream",
     "text": [
      "Sleeping 5 seconds...\n",
      "Sleeping 3 seconds...\n",
      "Sleeping 4 seconds...\n",
      "Sleeping 1 seconds...\n",
      "Sleeping 2 seconds...\n",
      "Done sleeping 1 seconds\n",
      "Done sleeping 2 seconds\n",
      "Done sleeping 3 seconds\n",
      "Done sleeping 4 seconds\n",
      "Done sleeping 5 seconds\n"
     ]
    }
   ],
   "source": [
    "with concurrent.futures.ProcessPoolExecutor() as executor:\n",
    "    results = [executor.submit(do_something, i) for i in [5, 4, 3, 2, 1]]\n",
    "    \n",
    "    for f in concurrent.futures.as_completed(results): # in the sequence of finishing time\n",
    "        print(f.result())"
   ]
  },
  {
   "cell_type": "code",
   "execution_count": 21,
   "metadata": {},
   "outputs": [
    {
     "name": "stdout",
     "output_type": "stream",
     "text": [
      "Sleeping 5 seconds...\n",
      "Sleeping 3 seconds...\n",
      "Sleeping 4 seconds...\n",
      "Sleeping 2 seconds...\n",
      "Sleeping 1 seconds...\n",
      "Done sleeping 5 seconds\n",
      "Done sleeping 4 seconds\n",
      "Done sleeping 3 seconds\n",
      "Done sleeping 2 seconds\n",
      "Done sleeping 1 seconds\n"
     ]
    }
   ],
   "source": [
    "with concurrent.futures.ProcessPoolExecutor() as executor:\n",
    "    secs = [5, 4, 3, 2, 1]\n",
    "    results = executor.map(do_something, secs) # directly return results\n",
    "    \n",
    "    for result in results:\n",
    "        print(result)"
   ]
  },
  {
   "cell_type": "code",
   "execution_count": null,
   "metadata": {},
   "outputs": [],
   "source": []
  },
  {
   "cell_type": "markdown",
   "metadata": {},
   "source": [
    "# Multi-Threading"
   ]
  },
  {
   "cell_type": "code",
   "execution_count": 53,
   "metadata": {},
   "outputs": [],
   "source": [
    "def long_time_task(i):\n",
    "    print(f'Current child thread: {threading.current_thread().name} - task: {i}')\n",
    "    time.sleep(i)\n",
    "    print(f'Result: {i}')"
   ]
  },
  {
   "cell_type": "code",
   "execution_count": 33,
   "metadata": {},
   "outputs": [
    {
     "name": "stdout",
     "output_type": "stream",
     "text": [
      "This is the main thread: MainThread\n",
      "Current child thread: Thread-20 - task: 3Current child thread: Thread-21 - task: 1\n",
      "\n",
      "Result: 1\n",
      "Result: 3\n",
      "Total time consumed: 3.0045041060002404 seconds\n"
     ]
    }
   ],
   "source": [
    "start = time.perf_counter()\n",
    "print(f'This is the main thread: {threading.current_thread().name}')\n",
    "t1 = threading.Thread(target=long_time_task, args=(3, ))\n",
    "t2 = threading.Thread(target=long_time_task, args=(1, ))\n",
    "t1.start()\n",
    "t2.start()\n",
    "t1.join()\n",
    "t2.join()\n",
    "end = time.perf_counter()\n",
    "print(f'Total time consumed: {end - start} seconds')"
   ]
  },
  {
   "cell_type": "code",
   "execution_count": null,
   "metadata": {},
   "outputs": [],
   "source": []
  },
  {
   "cell_type": "code",
   "execution_count": 54,
   "metadata": {},
   "outputs": [
    {
     "name": "stdout",
     "output_type": "stream",
     "text": [
      "This is the main thread: MainThread\n",
      "Current child thread: Thread-28 - task: 1\n",
      "Current child thread: Thread-29 - task: 2\n",
      "Result: 1\n",
      "Result: 2\n",
      "Total time consumed: 2.0047859309997875 seconds\n"
     ]
    }
   ],
   "source": [
    "start = time.perf_counter()\n",
    "print(f'This is the main thread: {threading.current_thread().name}')\n",
    "thread_list = []\n",
    "for i in range(1, 3):\n",
    "    t = threading.Thread(target=long_time_task, args=(i, ))\n",
    "    t.start()\n",
    "    thread_list.append(t)\n",
    "\n",
    "for t in thread_list:\n",
    "    t.join()\n",
    "\n",
    "end = time.perf_counter()\n",
    "print(f'Total time consumed: {end - start} seconds')"
   ]
  },
  {
   "cell_type": "code",
   "execution_count": null,
   "metadata": {},
   "outputs": [],
   "source": []
  },
  {
   "cell_type": "code",
   "execution_count": 38,
   "metadata": {},
   "outputs": [
    {
     "name": "stdout",
     "output_type": "stream",
     "text": [
      "This is the main thread: MainThread\n",
      "Current child thread: Thread-24 - task: 1Current child thread: Thread-25 - task: 2\n",
      "\n",
      "Current child thread: Thread-26 - task: 3\n",
      "Current child thread: Thread-27 - task: 4\n",
      "Total time consumed: 0.002207265999459196 seconds\n",
      "Result: 1\n",
      "Result: 2\n",
      "Result: 3\n",
      "Result: 4\n"
     ]
    }
   ],
   "source": [
    "# setDaemon, means that thread is not important, don't need to wait\n",
    "start = time.perf_counter()\n",
    "print(f'This is the main thread: {threading.current_thread().name}')\n",
    "for i in range(1, 5):\n",
    "    t = threading.Thread(target=long_time_task, args=(i, ))\n",
    "    t.setDaemon(True)\n",
    "    t.start()\n",
    "\n",
    "end = time.perf_counter()\n",
    "print(f'Total time consumed: {end - start} seconds')"
   ]
  },
  {
   "cell_type": "code",
   "execution_count": null,
   "metadata": {},
   "outputs": [],
   "source": []
  },
  {
   "cell_type": "code",
   "execution_count": 41,
   "metadata": {},
   "outputs": [],
   "source": [
    "# Lock\n",
    "class Account:\n",
    "    def __init__(self):\n",
    "        self.balance = 0\n",
    "    \n",
    "    def save(self, lock):\n",
    "        lock.acquire()\n",
    "        for _ in range(10000):\n",
    "            self.balance += 1\n",
    "        lock.release()\n",
    "    \n",
    "    def withdraw(self, lock):\n",
    "        lock.acquire()\n",
    "        for _ in range(10000):\n",
    "            self.balance -= 1\n",
    "        lock.release()"
   ]
  },
  {
   "cell_type": "code",
   "execution_count": 45,
   "metadata": {},
   "outputs": [
    {
     "name": "stdout",
     "output_type": "stream",
     "text": [
      "Current balance: 0\n"
     ]
    }
   ],
   "source": [
    "account = Account()\n",
    "lock = threading.Lock()\n",
    "t_save = threading.Thread(target=account.save, args=(lock, ), name='Save')\n",
    "t_withdraw = threading.Thread(target=account.withdraw, args=(lock, ), name='Withdraw')\n",
    "t_save.start()\n",
    "t_withdraw.start()\n",
    "t_save.join()\n",
    "t_withdraw.join()\n",
    "print(f'Current balance: {account.balance}')"
   ]
  },
  {
   "cell_type": "code",
   "execution_count": null,
   "metadata": {},
   "outputs": [],
   "source": []
  },
  {
   "cell_type": "code",
   "execution_count": 46,
   "metadata": {},
   "outputs": [],
   "source": [
    "# Queue, thread safe\n",
    "from queue import Queue"
   ]
  },
  {
   "cell_type": "code",
   "execution_count": 48,
   "metadata": {},
   "outputs": [],
   "source": [
    "class Producer(threading.Thread):\n",
    "    def __init__(self, name, queue):\n",
    "        threading.Thread.__init__(self, name=name)\n",
    "        self.queue = queue\n",
    "    \n",
    "    def run(self):\n",
    "        for i in range(1, 5):\n",
    "            print(f'{self.getName()} is producing {i} to queue!')\n",
    "            self.queue.put(i)\n",
    "            time.sleep(2)\n",
    "        print(f'{self.getName()} finished!')"
   ]
  },
  {
   "cell_type": "code",
   "execution_count": 49,
   "metadata": {},
   "outputs": [],
   "source": [
    "class Consumer(threading.Thread):\n",
    "    def __init__(self, name, queue):\n",
    "        threading.Thread.__init__(self, name=name)\n",
    "        self.queue = queue\n",
    "    \n",
    "    def run(self):\n",
    "        for _ in range(1, 5):\n",
    "            val = self.queue.get()\n",
    "            print(f'{self.getName()} is consuming {val} in the queue!')\n",
    "            time.sleep(3)\n",
    "        print(f'{self.getName()} finished!')"
   ]
  },
  {
   "cell_type": "code",
   "execution_count": 50,
   "metadata": {},
   "outputs": [],
   "source": [
    "def main():\n",
    "    queue = Queue()\n",
    "    producer = Producer('Producer', queue)\n",
    "    consumer = Consumer('Consumer', queue)\n",
    "    producer.start()\n",
    "    consumer.start()\n",
    "    producer.join()\n",
    "    consumer.join()\n",
    "    print('All threads finished')"
   ]
  },
  {
   "cell_type": "code",
   "execution_count": 52,
   "metadata": {},
   "outputs": [
    {
     "name": "stdout",
     "output_type": "stream",
     "text": [
      "Producer is producing 1 to queue!\n",
      "Consumer is consuming 1 in the queue!\n",
      "Producer is producing 2 to queue!\n",
      "Consumer is consuming 2 in the queue!\n",
      "Producer is producing 3 to queue!\n",
      "Consumer is consuming 3 in the queue!Producer is producing 4 to queue!\n",
      "\n",
      "Producer finished!\n",
      "Consumer is consuming 4 in the queue!\n",
      "Consumer finished!\n",
      "All threads finished\n"
     ]
    }
   ],
   "source": [
    "main()"
   ]
  },
  {
   "cell_type": "code",
   "execution_count": null,
   "metadata": {},
   "outputs": [],
   "source": []
  },
  {
   "cell_type": "code",
   "execution_count": 56,
   "metadata": {},
   "outputs": [
    {
     "name": "stdout",
     "output_type": "stream",
     "text": [
      "Sleeping 3 seconds...\n",
      "Sleeping 1 seconds...\n",
      "Done sleeping 3 seconds\n",
      "Done sleeping 1 seconds\n"
     ]
    }
   ],
   "source": [
    "with concurrent.futures.ThreadPoolExecutor() as executor:\n",
    "    f1 = executor.submit(do_something, 3)\n",
    "    f2 = executor.submit(do_something, 1)\n",
    "    print(f1.result())\n",
    "    print(f2.result())"
   ]
  },
  {
   "cell_type": "code",
   "execution_count": null,
   "metadata": {},
   "outputs": [],
   "source": []
  },
  {
   "cell_type": "code",
   "execution_count": null,
   "metadata": {},
   "outputs": [],
   "source": []
  },
  {
   "cell_type": "code",
   "execution_count": null,
   "metadata": {},
   "outputs": [],
   "source": []
  },
  {
   "cell_type": "code",
   "execution_count": null,
   "metadata": {},
   "outputs": [],
   "source": []
  },
  {
   "cell_type": "code",
   "execution_count": null,
   "metadata": {},
   "outputs": [],
   "source": []
  },
  {
   "cell_type": "code",
   "execution_count": null,
   "metadata": {},
   "outputs": [],
   "source": []
  }
 ],
 "metadata": {
  "kernelspec": {
   "display_name": "Python 3",
   "language": "python",
   "name": "python3"
  },
  "language_info": {
   "codemirror_mode": {
    "name": "ipython",
    "version": 3
   },
   "file_extension": ".py",
   "mimetype": "text/x-python",
   "name": "python",
   "nbconvert_exporter": "python",
   "pygments_lexer": "ipython3",
   "version": "3.7.4"
  }
 },
 "nbformat": 4,
 "nbformat_minor": 2
}
